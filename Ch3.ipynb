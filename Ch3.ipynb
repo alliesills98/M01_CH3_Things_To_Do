{
 "cells": [
  {
   "cell_type": "code",
   "execution_count": 1,
   "metadata": {},
   "outputs": [
    {
     "name": "stdout",
     "output_type": "stream",
     "text": [
      "3600\n",
      "The number of seconds in an hour is: 3600\n",
      "43200\n",
      "The number of seconds in a day is: 43200\n",
      "12.0\n",
      "12\n"
     ]
    }
   ],
   "source": [
    "print( 60 * 60 )\n",
    "seconds_per_hour = 60 * 60 \n",
    "print(\"The number of seconds in an hour is: \" + str(seconds_per_hour))\n",
    "print(seconds_per_hour * 12)\n",
    "seconds_per_day = seconds_per_hour * 12\n",
    "print(\"The number of seconds in a day is: \" + str(seconds_per_day))\n",
    "print(seconds_per_day / seconds_per_hour)\n",
    "print(seconds_per_day // seconds_per_hour)"
   ]
  },
  {
   "attachments": {},
   "cell_type": "markdown",
   "metadata": {},
   "source": [
    "The results from steps 3.5 and 3.6 are the same aside from the .0."
   ]
  }
 ],
 "metadata": {
  "kernelspec": {
   "display_name": "base",
   "language": "python",
   "name": "python3"
  },
  "language_info": {
   "codemirror_mode": {
    "name": "ipython",
    "version": 3
   },
   "file_extension": ".py",
   "mimetype": "text/x-python",
   "name": "python",
   "nbconvert_exporter": "python",
   "pygments_lexer": "ipython3",
   "version": "3.9.13"
  },
  "orig_nbformat": 4,
  "vscode": {
   "interpreter": {
    "hash": "412c4b75a839c3e9ba2ad9982c9676324a065241e0cceacc6bfe2964267ce6bc"
   }
  }
 },
 "nbformat": 4,
 "nbformat_minor": 2
}
